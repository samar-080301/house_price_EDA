{
 "cells": [
  {
   "cell_type": "markdown",
   "metadata": {},
   "source": [
    "1. Provide a summary of this dataset, including the number of rows, columns, and data types of each column. Highlight any potential issues like missing values or unusual data types from train.csv."
   ]
  },
  {
   "cell_type": "code",
   "execution_count": 18,
   "metadata": {},
   "outputs": [
    {
     "name": "stdout",
     "output_type": "stream",
     "text": [
      "Number of rows: 1460\n",
      "Number of columns: 81\n",
      "\n",
      "Data types of each column:\n",
      "Id                 int64\n",
      "MSSubClass         int64\n",
      "MSZoning          object\n",
      "LotFrontage      float64\n",
      "LotArea            int64\n",
      "                  ...   \n",
      "MoSold             int64\n",
      "YrSold             int64\n",
      "SaleType          object\n",
      "SaleCondition     object\n",
      "SalePrice          int64\n",
      "Length: 81, dtype: object\n",
      "\n",
      "Missing values in each column:\n",
      "Id                 0\n",
      "MSSubClass         0\n",
      "MSZoning           0\n",
      "LotFrontage      259\n",
      "LotArea            0\n",
      "                ... \n",
      "MoSold             0\n",
      "YrSold             0\n",
      "SaleType           0\n",
      "SaleCondition      0\n",
      "SalePrice          0\n",
      "Length: 81, dtype: int64\n",
      "\n",
      "First few rows of the dataset:\n",
      "   Id  MSSubClass MSZoning  LotFrontage  LotArea Street Alley LotShape  \\\n",
      "0   1          60       RL         65.0     8450   Pave   NaN      Reg   \n",
      "1   2          20       RL         80.0     9600   Pave   NaN      Reg   \n",
      "2   3          60       RL         68.0    11250   Pave   NaN      IR1   \n",
      "3   4          70       RL         60.0     9550   Pave   NaN      IR1   \n",
      "4   5          60       RL         84.0    14260   Pave   NaN      IR1   \n",
      "\n",
      "  LandContour Utilities  ... PoolArea PoolQC Fence MiscFeature MiscVal MoSold  \\\n",
      "0         Lvl    AllPub  ...        0    NaN   NaN         NaN       0      2   \n",
      "1         Lvl    AllPub  ...        0    NaN   NaN         NaN       0      5   \n",
      "2         Lvl    AllPub  ...        0    NaN   NaN         NaN       0      9   \n",
      "3         Lvl    AllPub  ...        0    NaN   NaN         NaN       0      2   \n",
      "4         Lvl    AllPub  ...        0    NaN   NaN         NaN       0     12   \n",
      "\n",
      "  YrSold  SaleType  SaleCondition  SalePrice  \n",
      "0   2008        WD         Normal     208500  \n",
      "1   2007        WD         Normal     181500  \n",
      "2   2008        WD         Normal     223500  \n",
      "3   2006        WD        Abnorml     140000  \n",
      "4   2008        WD         Normal     250000  \n",
      "\n",
      "[5 rows x 81 columns]\n"
     ]
    }
   ],
   "source": [
    "import pandas as pd\n",
    "\n",
    "# Load the dataset\n",
    "df = pd.read_csv('train.csv')\n",
    "\n",
    "# Display the number of rows and columns\n",
    "print(f\"Number of rows: {df.shape[0]}\")\n",
    "print(f\"Number of columns: {df.shape[1]}\")\n",
    "\n",
    "# Display the data types of each column\n",
    "print(\"\\nData types of each column:\")\n",
    "print(df.dtypes)\n",
    "\n",
    "# Check for missing values\n",
    "print(\"\\nMissing values in each column:\")\n",
    "print(df.isnull().sum())\n",
    "\n",
    "# Display the first few rows of the dataset to identify any unusual data types\n",
    "print(\"\\nFirst few rows of the dataset:\")\n",
    "print(df.head())"
   ]
  },
  {
   "cell_type": "markdown",
   "metadata": {},
   "source": [
    "2. Show the names of columns will null values more than 0."
   ]
  },
  {
   "cell_type": "code",
   "execution_count": 19,
   "metadata": {},
   "outputs": [
    {
     "name": "stdout",
     "output_type": "stream",
     "text": [
      "Columns with null values more than 0:\n",
      "Index(['LotFrontage', 'Alley', 'MasVnrType', 'MasVnrArea', 'BsmtQual',\n",
      "       'BsmtCond', 'BsmtExposure', 'BsmtFinType1', 'BsmtFinType2',\n",
      "       'Electrical', 'FireplaceQu', 'GarageType', 'GarageYrBlt',\n",
      "       'GarageFinish', 'GarageQual', 'GarageCond', 'PoolQC', 'Fence',\n",
      "       'MiscFeature'],\n",
      "      dtype='object')\n"
     ]
    }
   ],
   "source": [
    "# Get columns with null values\n",
    "null_columns = df.columns[df.isnull().sum() > 0]\n",
    "\n",
    "# Display the column names\n",
    "print(\"Columns with null values more than 0:\")\n",
    "print(null_columns)"
   ]
  },
  {
   "cell_type": "markdown",
   "metadata": {},
   "source": [
    "3. Show the unique values in df['BsmtQual']."
   ]
  },
  {
   "cell_type": "code",
   "execution_count": 20,
   "metadata": {},
   "outputs": [
    {
     "name": "stdout",
     "output_type": "stream",
     "text": [
      "['TA' 'Gd' nan 'Fa' 'Po']\n"
     ]
    }
   ],
   "source": [
    "print(df['BsmtCond'].unique())"
   ]
  },
  {
   "cell_type": "markdown",
   "metadata": {},
   "source": [
    "4. We have the following missing values in these columns: 'LotFrontage', 'Alley', 'MasVnrType', 'MasVnrArea', 'BsmtQual',\n",
    "       'BsmtCond', 'BsmtExposure', 'BsmtFinType1', 'BsmtFinType2',\n",
    "       'Electrical', 'FireplaceQu', 'GarageType', 'GarageYrBlt',\n",
    "       'GarageFinish', 'GarageQual', 'GarageCond', 'PoolQC', 'Fence',\n",
    "       'MiscFeature'. Suggest strategies for handling these missing values, considering the nature of each column."
   ]
  },
  {
   "cell_type": "code",
   "execution_count": 21,
   "metadata": {},
   "outputs": [
    {
     "data": {
      "text/plain": [
       "\"# Fill missing values\\ndf['LotFrontage'].fillna(df['LotFrontage'].median(), inplace=True)\\ndf['Alley'].fillna('NoAlley', inplace=True)\\ndf['MasVnrType'].fillna(df['MasVnrType'].mode()[0], inplace=True)\\ndf['MasVnrArea'].fillna(df['MasVnrArea'].median(), inplace=True)\\ndf['BsmtQual'].fillna('NoBasement', inplace=True)\\ndf['BsmtCond'].fillna('NoBasement', inplace=True)\\ndf['BsmtExposure'].fillna('NoBasement', inplace=True)\\ndf['BsmtFinType1'].fillna('NoBasement', inplace=True)\\ndf['BsmtFinType2'].fillna('NoBasement', inplace=True)\\ndf['Electrical'].fillna(df['Electrical'].mode()[0], inplace=True)\\ndf['FireplaceQu'].fillna('NoFireplace', inplace=True)\\ndf['GarageType'].fillna('NoGarage', inplace=True)\\ndf['GarageYrBlt'].fillna(0, inplace=True)\\ndf['GarageFinish'].fillna('NoGarage', inplace=True)\\ndf['GarageQual'].fillna('NoGarage', inplace=True)\\ndf['GarageCond'].fillna('NoGarage', inplace=True)\\ndf['PoolQC'].fillna('NoPool', inplace=True)\\ndf['Fence'].fillna('NoFence', inplace=True)\\ndf['MiscFeature'].fillna('NoFeature', inplace=True)\""
      ]
     },
     "execution_count": 21,
     "metadata": {},
     "output_type": "execute_result"
    }
   ],
   "source": [
    "'''# Fill missing values\n",
    "df['LotFrontage'].fillna(df['LotFrontage'].median(), inplace=True)\n",
    "df['Alley'].fillna('NoAlley', inplace=True)\n",
    "df['MasVnrType'].fillna(df['MasVnrType'].mode()[0], inplace=True)\n",
    "df['MasVnrArea'].fillna(df['MasVnrArea'].median(), inplace=True)\n",
    "df['BsmtQual'].fillna('NoBasement', inplace=True)\n",
    "df['BsmtCond'].fillna('NoBasement', inplace=True)\n",
    "df['BsmtExposure'].fillna('NoBasement', inplace=True)\n",
    "df['BsmtFinType1'].fillna('NoBasement', inplace=True)\n",
    "df['BsmtFinType2'].fillna('NoBasement', inplace=True)\n",
    "df['Electrical'].fillna(df['Electrical'].mode()[0], inplace=True)\n",
    "df['FireplaceQu'].fillna('NoFireplace', inplace=True)\n",
    "df['GarageType'].fillna('NoGarage', inplace=True)\n",
    "df['GarageYrBlt'].fillna(0, inplace=True)\n",
    "df['GarageFinish'].fillna('NoGarage', inplace=True)\n",
    "df['GarageQual'].fillna('NoGarage', inplace=True)\n",
    "df['GarageCond'].fillna('NoGarage', inplace=True)\n",
    "df['PoolQC'].fillna('NoPool', inplace=True)\n",
    "df['Fence'].fillna('NoFence', inplace=True)\n",
    "df['MiscFeature'].fillna('NoFeature', inplace=True)'''"
   ]
  },
  {
   "cell_type": "code",
   "execution_count": 22,
   "metadata": {},
   "outputs": [],
   "source": [
    "# Fill missing values\n",
    "df.fillna({\n",
    "    'LotFrontage': df['LotFrontage'].median(),\n",
    "    'Alley': 'NoAlley',\n",
    "    'MasVnrType': df['MasVnrType'].mode()[0],\n",
    "    'MasVnrArea': df['MasVnrArea'].median(),\n",
    "    'BsmtQual': 'NoBasement',\n",
    "    'BsmtCond': 'NoBasement',\n",
    "    'BsmtExposure': 'NoBasement',\n",
    "    'BsmtFinType1': 'NoBasement',\n",
    "    'BsmtFinType2': 'NoBasement',\n",
    "    'Electrical': df['Electrical'].mode()[0],\n",
    "    'FireplaceQu': 'NoFireplace',\n",
    "    'GarageType': 'NoGarage',\n",
    "    'GarageYrBlt': 0,\n",
    "    'GarageFinish': 'NoGarage',\n",
    "    'GarageQual': 'NoGarage',\n",
    "    'GarageCond': 'NoGarage',\n",
    "    'PoolQC': 'NoPool',\n",
    "    'Fence': 'NoFence',\n",
    "    'MiscFeature': 'NoFeature'\n",
    "}, inplace=True)"
   ]
  },
  {
   "cell_type": "markdown",
   "metadata": {},
   "source": [
    "5. Given these housing features, suggest potential new features that might be relevant for predicting SalePrice."
   ]
  },
  {
   "cell_type": "code",
   "execution_count": 23,
   "metadata": {
    "vscode": {
     "languageId": "ruby"
    }
   },
   "outputs": [
    {
     "name": "stdout",
     "output_type": "stream",
     "text": [
      "   TotalSF  HouseAge  TotalBath  TotalPorchSF  HasPool  HasGarage  \\\n",
      "0     2566         5        3.5            61        0          1   \n",
      "1     2524        31        2.5             0        0          1   \n",
      "2     2706         7        3.5            42        0          1   \n",
      "3     2473        91        2.0           307        0          1   \n",
      "4     3343         8        3.5            84        0          1   \n",
      "\n",
      "   HasFireplace  Remodeled  \n",
      "0             0          0  \n",
      "1             1          0  \n",
      "2             1          1  \n",
      "3             1          1  \n",
      "4             1          0  \n"
     ]
    }
   ],
   "source": [
    "# Create new features\n",
    "df['TotalSF'] = df['1stFlrSF'] + df['2ndFlrSF'] + df['TotalBsmtSF']\n",
    "df['HouseAge'] = df['YrSold'] - df['YearBuilt']\n",
    "df['TotalBath'] = df['FullBath'] + (0.5 * df['HalfBath']) + df['BsmtFullBath'] + (0.5 * df['BsmtHalfBath'])\n",
    "df['TotalPorchSF'] = df['OpenPorchSF'] + df['EnclosedPorch'] + df['3SsnPorch'] + df['ScreenPorch']\n",
    "df['HasPool'] = df['PoolArea'].apply(lambda x: 1 if x > 0 else 0)\n",
    "df['HasGarage'] = df['GarageArea'].apply(lambda x: 1 if x > 0 else 0)\n",
    "df['HasFireplace'] = df['Fireplaces'].apply(lambda x: 1 if x > 0 else 0)\n",
    "df['Remodeled'] = (df['YearRemodAdd'] != df['YearBuilt']).astype(int)\n",
    "\n",
    "# Display the first few rows of the dataframe with new features\n",
    "print(df[['TotalSF', 'HouseAge', 'TotalBath', 'TotalPorchSF', 'HasPool', 'HasGarage', 'HasFireplace', 'Remodeled']].head())\n"
   ]
  },
  {
   "cell_type": "markdown",
   "metadata": {},
   "source": [
    "6. Now there are total how many columns?"
   ]
  },
  {
   "cell_type": "code",
   "execution_count": 24,
   "metadata": {
    "vscode": {
     "languageId": "ruby"
    }
   },
   "outputs": [
    {
     "name": "stdout",
     "output_type": "stream",
     "text": [
      "89\n"
     ]
    }
   ],
   "source": [
    "# now there are total how many columns?\n",
    "print(df.shape[1])"
   ]
  },
  {
   "cell_type": "markdown",
   "metadata": {},
   "source": [
    "7. "
   ]
  },
  {
   "cell_type": "code",
   "execution_count": null,
   "metadata": {
    "vscode": {
     "languageId": "ruby"
    }
   },
   "outputs": [],
   "source": []
  },
  {
   "cell_type": "code",
   "execution_count": null,
   "metadata": {
    "vscode": {
     "languageId": "ruby"
    }
   },
   "outputs": [],
   "source": []
  }
 ],
 "metadata": {
  "kernelspec": {
   "display_name": "Python 3",
   "language": "python",
   "name": "python3"
  },
  "language_info": {
   "codemirror_mode": {
    "name": "ipython",
    "version": 3
   },
   "file_extension": ".py",
   "mimetype": "text/x-python",
   "name": "python",
   "nbconvert_exporter": "python",
   "pygments_lexer": "ipython3",
   "version": "3.13.1"
  }
 },
 "nbformat": 4,
 "nbformat_minor": 2
}
